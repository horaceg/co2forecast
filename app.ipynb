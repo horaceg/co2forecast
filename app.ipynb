{
 "cells": [
  {
   "cell_type": "code",
   "execution_count": 1,
   "metadata": {},
   "outputs": [
    {
     "name": "stderr",
     "output_type": "stream",
     "text": [
      "/var/folders/3w/njxq89zn5qs5vbgg37cmcc8r0000gn/T/ipykernel_16556/850988958.py:1: DeprecationWarning: \n",
      "Pyarrow will become a required dependency of pandas in the next major release of pandas (pandas 3.0),\n",
      "(to allow more performant data types, such as the Arrow string type, and better interoperability with other libraries)\n",
      "but was not found to be installed on your system.\n",
      "If this would cause problems for you,\n",
      "please provide us feedback at https://github.com/pandas-dev/pandas/issues/54466\n",
      "        \n",
      "  import pandas as pd\n"
     ]
    }
   ],
   "source": [
    "import pandas as pd\n",
    "from vega_datasets import data\n",
    "from io import BytesIO\n",
    "from scipy.linalg import solve, norm\n",
    "import bqplot.pyplot as bqplt\n",
    "import bqplot as bq\n",
    "import ipywidgets as widgets\n",
    "import numpy as np"
   ]
  },
  {
   "cell_type": "code",
   "execution_count": 2,
   "metadata": {},
   "outputs": [],
   "source": [
    "co2 = pd.read_csv(BytesIO(data.co2_concentration.raw()))\n",
    "\n",
    "co2.columns = co2.columns.str.lower()\n",
    "co2 = co2.assign(date=lambda f: f[\"date\"].pipe(pd.to_datetime))"
   ]
  },
  {
   "cell_type": "code",
   "execution_count": 3,
   "metadata": {},
   "outputs": [],
   "source": [
    "def standardize(col):\n",
    "    return col.sub(col.mean()).div(col.std())\n",
    "\n",
    "\n",
    "dataset = co2.assign(\n",
    "    year=lambda f: f[\"date\"].dt.year.astype(float),\n",
    "    month=lambda f: f[\"date\"].dt.month.astype(float),\n",
    "    year_2=lambda f: f[\"year\"].pipe(standardize).pow(2),\n",
    "    cos_month=lambda f: f[\"month\"].pipe(lambda s: np.cos(s * 2 * np.pi / 12)),\n",
    "    sin_month=lambda f: f[\"month\"].pipe(lambda s: np.sin(s * 2 * np.pi / 12)),\n",
    ").set_index(\"date\")\n",
    "\n",
    "\n",
    "def apply(params, x):\n",
    "    return x @ params[1:] + params[0]\n",
    "\n",
    "\n",
    "def ols(x, y, reg=0):\n",
    "    x = np.hstack((np.ones_like(x[:, [0]]), x))\n",
    "    return solve(x.T @ x + reg * np.eye(x.shape[1]), x.T @ y)"
   ]
  },
  {
   "cell_type": "code",
   "execution_count": 4,
   "metadata": {},
   "outputs": [
    {
     "data": {
      "application/vnd.jupyter.widget-view+json": {
       "model_id": "aa3ba50eb5b74ede9aca1e5567ae0729",
       "version_major": 2,
       "version_minor": 0
      },
      "text/plain": [
       "VBox(children=(VBox(children=(IntSlider(value=1980, description='Pivot year', max=2015, min=1960), SelectMulti…"
      ]
     },
     "execution_count": 4,
     "metadata": {},
     "output_type": "execute_result"
    }
   ],
   "source": [
    "fig = bqplt.figure()\n",
    "\n",
    "axes_options = {\"x\": {\"label\": \"date\"}, \"y\": {\"label\": \"co2\"}}\n",
    "targets = bqplt.plot(\n",
    "    dataset.index,\n",
    "    [[], []],\n",
    "    colors=[\"blue\", \"orange\"],\n",
    "    labels=[\"Prediction\", \"Measurement\"],\n",
    "    display_legend=True,\n",
    "    axes_options=axes_options,\n",
    ")\n",
    "vline = bqplt.vline([pd.Timestamp(\"2010-01-01\")])\n",
    "\n",
    "\n",
    "def on_change(_):\n",
    "    pivot_year = pivot_slider.value\n",
    "    pivot = pd.Timestamp(f\"{pivot_year}-01-01\")\n",
    "\n",
    "    reg = reg_slider.value\n",
    "\n",
    "    features = list(features_choice.value)\n",
    "\n",
    "    x_train = dataset.loc[:pivot, features]\n",
    "    mu = x_train.mean()\n",
    "    std = x_train.std()\n",
    "    x_norm = x_train.sub(mu).div(std).to_numpy()\n",
    "    y_train = dataset.loc[:pivot, \"co2\"].to_numpy()\n",
    "\n",
    "    weights = ols(x_norm, y_train, reg=reg)\n",
    "\n",
    "    weights_label.value = f\"<b>Bias</b>: {weights[0]:.2f} || \" + \" | \".join(\n",
    "        [f\"<b>{name}</b>: {w:.2f}\" for name, w in zip(features, weights[1:])]\n",
    "    )\n",
    "    targets.y = [apply(weights, dataset[features].sub(mu).div(std)), dataset[\"co2\"]]\n",
    "    vline.x = [pivot, pivot]\n",
    "\n",
    "\n",
    "features = [\"year\", \"year_2\", \"month\", \"cos_month\", \"sin_month\"]\n",
    "features_choice = widgets.SelectMultiple(\n",
    "    options=features, description=\"Features\", value=features\n",
    ")\n",
    "features_choice.observe(on_change, \"value\")\n",
    "\n",
    "pivot_slider = widgets.IntSlider(min=1960, max=2015, description=\"Pivot year\")\n",
    "pivot_slider.observe(on_change, \"value\")\n",
    "\n",
    "weights_label = widgets.HTML(value=\"\", description=\"Weights\")\n",
    "\n",
    "reg_slider = widgets.FloatLogSlider(min=-3, max=1, value=1.0, description=\"Regularize\")\n",
    "reg_slider.observe(on_change, \"value\")\n",
    "\n",
    "pivot_slider.value = 1980\n",
    "\n",
    "widgets.VBox([widgets.VBox([pivot_slider, features_choice, weights_label]), fig])"
   ]
  }
 ],
 "metadata": {
  "kernelspec": {
   "display_name": "fromscratch",
   "language": "python",
   "name": "python3"
  },
  "language_info": {
   "codemirror_mode": {
    "name": "ipython",
    "version": 3
   },
   "file_extension": ".py",
   "mimetype": "text/x-python",
   "name": "python",
   "nbconvert_exporter": "python",
   "pygments_lexer": "ipython3",
   "version": "3.12.1"
  }
 },
 "nbformat": 4,
 "nbformat_minor": 2
}
